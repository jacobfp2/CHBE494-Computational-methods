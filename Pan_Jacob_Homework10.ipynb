{
 "cells": [
  {
   "cell_type": "markdown",
   "metadata": {},
   "source": [
    "# Jacob Pan, Jacobfp2, CHBE 494 Homework 10"
   ]
  },
  {
   "cell_type": "markdown",
   "metadata": {},
   "source": [
    "## Question 1"
   ]
  },
  {
   "cell_type": "code",
   "execution_count": 1,
   "metadata": {},
   "outputs": [
    {
     "name": "stdout",
     "output_type": "stream",
     "text": [
      "Game terminated\n"
     ]
    },
    {
     "data": {
      "image/png": "[encoded data removed]",
      "text/plain": [
       "<Figure size 432x288 with 1 Axes>"
      ]
     },
     "metadata": {
      "needs_background": "light"
     },
     "output_type": "display_data"
    }
   ],
   "source": [
    "import random\n",
    "import matplotlib.pyplot as plt\n",
    "\n",
    "\n",
    "nPoints = 50\n",
    "\n",
    "def addLocations(loc1, loc2):\n",
    "    return (loc1[0] + loc2[0], loc1[1] + loc2[1])\n",
    "\n",
    "def randomWalk(nPoints):\n",
    "    visited = [(0, 0)]\n",
    "    # Possible directions to walk in\n",
    "    possibleMoves = [(1, 0), (0, 1), (-1, 0), (0, -1)]\n",
    "\n",
    "    for i in range(nPoints):\n",
    "        # Generate coordinates of possible movements from current location\n",
    "        possibleLocations = [addLocations(offset, visited[-1]) for offset in possibleMoves]\n",
    "        # Remove coordinates that have already been visited\n",
    "        possibleLocations = [x for x in possibleLocations if x not in visited]\n",
    "        \n",
    "        # If no movement is possible\n",
    "        if possibleLocations == []:\n",
    "            print(\"Game terminated\")\n",
    "            break\n",
    "        else:\n",
    "            # Number of possible moves you could make\n",
    "            numAvailableMoves = len(possibleLocations) - 1\n",
    "            # Get a random location you could move to\n",
    "            newLocation = possibleLocations[random.randint(0, numAvailableMoves)]\n",
    "            # Add new location to visited\n",
    "            visited.append(newLocation)\n",
    "        \n",
    "    \n",
    "    return visited\n",
    "# print(randomWalk(nPoints))\n",
    "walk = randomWalk(nPoints)\n",
    "\n",
    "x = [location[0] for location in walk]\n",
    "y = [location[1] for location in walk]\n",
    "\n",
    "plt.plot(x, y,'-o',color = \"green\", lw =3 )    \n",
    "plt.axis(\"square\")\n",
    "plt.grid()\n",
    "plt.show()   \n",
    "        "
   ]
  },
  {
   "cell_type": "markdown",
   "metadata": {},
   "source": [
    "## Question 2"
   ]
  },
  {
   "cell_type": "code",
   "execution_count": 2,
   "metadata": {},
   "outputs": [
    {
     "name": "stdout",
     "output_type": "stream",
     "text": [
      "Probability of winning while switching doors is:  0.6664 %\n",
      "Probability of winning while keeping the same door is:  0.33242000000000005 %\n"
     ]
    }
   ],
   "source": [
    "d = [\"door1\", \"door2\", \"door3\"]\n",
    "\n",
    "nGames = 50000\n",
    "\n",
    "def doorOpened(nGames):\n",
    "    gamesWon = 0\n",
    "    for i in range(0, nGames):\n",
    "        doorWithPrize = d[random.randint(0, 2)]\n",
    "        pickedDoor = d[random.randint(0, 2)]\n",
    "        \n",
    "        for door in d:\n",
    "            if door != doorWithPrize and door != pickedDoor:\n",
    "                hostOpens = door\n",
    "        \n",
    "        for door in d:        \n",
    "            if door != hostOpens and door != pickedDoor:\n",
    "                finalDoor = door\n",
    "        \n",
    "        if finalDoor != doorWithPrize:\n",
    "            gamesWon = gamesWon\n",
    "        else:\n",
    "            gamesWon = gamesWon + 1\n",
    "            \n",
    "    probability = gamesWon/ nGames\n",
    "    return probability\n",
    "\n",
    "print(\"Probability of winning while switching doors is: \",doorOpened(nGames),\"%\")\n",
    "print(\"Probability of winning while keeping the same door is: \", 1 - doorOpened(nGames),\"%\")"
   ]
  },
  {
   "cell_type": "markdown",
   "metadata": {},
   "source": [
    "## Question 3"
   ]
  },
  {
   "cell_type": "code",
   "execution_count": 3,
   "metadata": {},
   "outputs": [
    {
     "name": "stdout",
     "output_type": "stream",
     "text": [
      "0.63642\n"
     ]
    }
   ],
   "source": [
    "import math\n",
    "boardLength = 10\n",
    "\n",
    "def buffonNeedle(nNeedles):\n",
    "    needlesCrossed = 0\n",
    "    for i in range(nNeedles):\n",
    "        \n",
    "        yLocation = random.uniform(0, boardLength)\n",
    "        needleAngle = random.uniform(0, math.pi)\n",
    "        height = math.sin(needleAngle) * (1/2)\n",
    "        \n",
    "        if math.floor(yLocation) != math.floor(yLocation + height) or math.floor(yLocation) != math.floor(yLocation - height):\n",
    "            needlesCrossed += 1\n",
    "    return needlesCrossed / nNeedles\n",
    "\n",
    "print(buffonNeedle(50000))"
   ]
  },
  {
   "cell_type": "code",
   "execution_count": null,
   "metadata": {},
   "outputs": [],
   "source": []
  },
  {
   "cell_type": "code",
   "execution_count": null,
   "metadata": {},
   "outputs": [],
   "source": []
  },
  {
   "cell_type": "code",
   "execution_count": null,
   "metadata": {},
   "outputs": [],
   "source": []
  }
 ],
 "metadata": {
  "kernelspec": {
   "display_name": "Python 3",
   "language": "python",
   "name": "python3"
  },
  "language_info": {
   "codemirror_mode": {
    "name": "ipython",
    "version": 3
   },
   "file_extension": ".py",
   "mimetype": "text/x-python",
   "name": "python",
   "nbconvert_exporter": "python",
   "pygments_lexer": "ipython3",
   "version": "3.8.3"
  }
 },
 "nbformat": 4,
 "nbformat_minor": 4
}
