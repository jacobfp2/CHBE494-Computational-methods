{
 "cells": [
  {
   "cell_type": "markdown",
   "metadata": {},
   "source": [
    "# Jacob Pan, Jacobfp2, CHBE 494 Homework 11"
   ]
  },
  {
   "cell_type": "code",
   "execution_count": 1,
   "metadata": {},
   "outputs": [],
   "source": [
    "import numpy as np\n",
    "from numpy.random import randn\n",
    "import matplotlib.pyplot as plt\n",
    "from sklearn import linear_model\n",
    "from sklearn.svm import SVC\n",
    "from sklearn.svm import SVR\n",
    "from sklearn.model_selection import train_test_split\n",
    "from sklearn.ensemble import GradientBoostingRegressor\n",
    "from sklearn.ensemble import RandomForestClassifier\n",
    "from sklearn.ensemble import RandomForestRegressor\n",
    "from sklearn.ensemble import AdaBoostClassifier\n",
    "from sklearn.ensemble import AdaBoostRegressor\n",
    "from sklearn.linear_model import LogisticRegression\n",
    "from sklearn.neighbors import KNeighborsClassifier\n",
    "from sklearn.neural_network import MLPClassifier\n",
    "from sklearn import linear_model\n",
    "from sklearn.preprocessing import PolynomialFeatures \n",
    "from sklearn.pipeline import make_pipeline\n",
    "from sklearn.model_selection import KFold,  cross_val_score"
   ]
  },
  {
   "cell_type": "markdown",
   "metadata": {},
   "source": [
    "## Question 1"
   ]
  },
  {
   "cell_type": "code",
   "execution_count": 2,
   "metadata": {},
   "outputs": [
    {
     "name": "stdout",
     "output_type": "stream",
     "text": [
      "svcScore = 0.952554\n",
      "RFscore = 0.964881\n",
      "LRscore = 0.952554\n",
      "ABscore = 0.978932\n",
      "KNscore = 0.936749\n"
     ]
    }
   ],
   "source": [
    "from sklearn.datasets import load_breast_cancer\n",
    "data = load_breast_cancer()\n",
    "\n",
    "x = data.data\n",
    "y = data.target\n",
    "x_train, x_test, y_train, y_test = train_test_split(x,y,test_size=0.5)\n",
    "kf = KFold(n_splits=5, shuffle = True)\n",
    "\n",
    "#Linear SVC\n",
    "svc = SVC(kernel='linear')\n",
    "svcScore = cross_val_score(svc, x, y, cv = kf, n_jobs = -1)\n",
    "print(\"svcScore = %f\" % np.mean(svcScore))\n",
    "\n",
    "#Random forest\n",
    "RF = RandomForestClassifier(n_estimators=1000)\n",
    "RFscore = cross_val_score(RF, x, y, cv = kf, n_jobs = -1)\n",
    "print(\"RFscore = %f\" %np.mean(RFscore))\n",
    "\n",
    "#logistic regression\n",
    "LR = LogisticRegression(solver='lbfgs',multi_class='multinomial', max_iter = 1000000)\n",
    "LRscore = cross_val_score(LR, x, y, cv = kf, n_jobs = -1)\n",
    "print(\"LRscore = %f\" %np.mean(LRscore))\n",
    "\n",
    "#AdaBoost\n",
    "AB = AdaBoostClassifier(n_estimators=1000)\n",
    "ABscore = cross_val_score(AB, x, y, cv = kf, n_jobs = -1)\n",
    "print(\"ABscore = %f\" %np.mean(ABscore))\n",
    "\n",
    "#k - nearest neighbors\n",
    "KN = KNeighborsClassifier(n_neighbors=10)\n",
    "KNscore = cross_val_score(KN, x, y, cv = kf, n_jobs = -1)\n",
    "print(\"KNscore = %f\" %np.mean(KNscore))\n"
   ]
  },
  {
   "cell_type": "markdown",
   "metadata": {},
   "source": [
    "## Question 2"
   ]
  },
  {
   "cell_type": "code",
   "execution_count": 5,
   "metadata": {},
   "outputs": [
    {
     "name": "stdout",
     "output_type": "stream",
     "text": [
      "svcScore = 0.960159\n",
      "RFscore = 0.988730\n",
      "LRscore = 0.954921\n",
      "ABscore = 0.835714\n",
      "KNscore = 0.729683\n"
     ]
    }
   ],
   "source": [
    "from sklearn.datasets import load_wine\n",
    "data = load_wine()\n",
    "\n",
    "x = data.data\n",
    "y = data.target\n",
    "x_train, x_test, y_train, y_test = train_test_split(x,y,test_size=0.5)\n",
    "kf = KFold(n_splits=5, shuffle = True)\n",
    "\n",
    "#Linear SVC\n",
    "svc = SVC(kernel='linear')\n",
    "svcScore = cross_val_score(svc, x, y, cv = kf, n_jobs = -1)\n",
    "print(\"svcScore = %f\" % np.mean(svcScore))\n",
    "\n",
    "#Random forest\n",
    "RF = RandomForestClassifier(n_estimators=1000)\n",
    "RFscore = cross_val_score(RF, x, y, cv = kf, n_jobs = -1)\n",
    "print(\"RFscore = %f\" %np.mean(RFscore))\n",
    "\n",
    "#logistic regression\n",
    "LR = LogisticRegression(solver='lbfgs',multi_class='multinomial', max_iter = 1000000)\n",
    "LRscore = cross_val_score(LR, x, y, cv = kf, n_jobs = -1)\n",
    "print(\"LRscore = %f\" %np.mean(LRscore))\n",
    "\n",
    "#AdaBoost\n",
    "AB = AdaBoostClassifier(n_estimators=1000)\n",
    "ABscore = cross_val_score(AB, x, y, cv = kf, n_jobs = -1)\n",
    "print(\"ABscore = %f\" %np.mean(ABscore))\n",
    "\n",
    "#k - nearest neighbors\n",
    "KN = KNeighborsClassifier(n_neighbors=10)\n",
    "KNscore = cross_val_score(KN, x, y, cv = kf, n_jobs = -1)\n",
    "print(\"KNscore = %f\" %np.mean(KNscore))"
   ]
  },
  {
   "cell_type": "markdown",
   "metadata": {},
   "source": [
    "## Question 3"
   ]
  },
  {
   "cell_type": "code",
   "execution_count": 4,
   "metadata": {},
   "outputs": [
    {
     "name": "stdout",
     "output_type": "stream",
     "text": [
      "linRegScore = 0.709098\n",
      "polynomial feature scores for degree 1 = 0.713047\n",
      "polynomial feature scores for degree 2 = 0.810172\n",
      "polynomial feature scores for degree 3 = -9202.221301\n",
      "polynomial feature scores for degree 4 = -1308.284545\n",
      "GradientBoostingRegressorScore = 0.871677\n",
      "RandomForestRegressorScore = 0.872804\n",
      "AdaBoostRegressorScore = 0.821924\n"
     ]
    }
   ],
   "source": [
    "from sklearn.datasets import load_boston\n",
    "data = load_boston()\n",
    "\n",
    "x = data.data\n",
    "y = data.target\n",
    "x_train, x_test, y_train, y_test = train_test_split(x,y,test_size=0.5)\n",
    "kf = KFold(n_splits=5, shuffle = True)\n",
    "\n",
    "#linear regression \n",
    "modelL = linear_model.LinearRegression()\n",
    "linRegScore = cross_val_score(modelL, x, y, cv = kf, n_jobs = -1)\n",
    "print(\"linRegScore = %f\" %np.mean(linRegScore))\n",
    "\n",
    "#linear regression with polynomial features\n",
    "for degree in range(1,5):\n",
    "    modelP = make_pipeline(PolynomialFeatures(degree, include_bias = False), linear_model.LinearRegression())\n",
    "    linRegPolyScore = cross_val_score(modelP,x,y, cv = kf)\n",
    "    print(\"polynomial feature scores for degree %g = %f\" % (degree, np.mean(linRegPolyScore)))\n",
    "\n",
    "#GradientBoostingRegressor\n",
    "modelG = GradientBoostingRegressor(n_estimators = 1000)\n",
    "GradientBoostingRegressorScore = cross_val_score(modelG, x, y, cv = kf, n_jobs = -1)\n",
    "print(\"GradientBoostingRegressorScore = %f\" %np.mean(GradientBoostingRegressorScore))\n",
    "\n",
    "#RandomForestRegressor\n",
    "modelR = RandomForestRegressor(n_estimators = 1000)\n",
    "RandomForestRegressorScore = cross_val_score(modelR, x, y, cv = kf, n_jobs = -1)\n",
    "print(\"RandomForestRegressorScore = %f\" %np.mean(RandomForestRegressorScore))\n",
    "\n",
    "\n",
    "#AdaBoostRegressor\n",
    "modelA = AdaBoostRegressor(n_estimators = 1000)\n",
    "AdaBoostRegressorScore = cross_val_score(modelA, x, y, cv = kf, n_jobs = -1)\n",
    "print(\"AdaBoostRegressorScore = %f\" %np.mean(AdaBoostRegressorScore))\n",
    "\n"
   ]
  }
 ],
 "metadata": {
  "kernelspec": {
   "display_name": "Python 3",
   "language": "python",
   "name": "python3"
  },
  "language_info": {
   "codemirror_mode": {
    "name": "ipython",
    "version": 3
   },
   "file_extension": ".py",
   "mimetype": "text/x-python",
   "name": "python",
   "nbconvert_exporter": "python",
   "pygments_lexer": "ipython3",
   "version": "3.8.3"
  }
 },
 "nbformat": 4,
 "nbformat_minor": 4
}
