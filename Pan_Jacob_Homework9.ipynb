{
 "cells": [
  {
   "cell_type": "markdown",
   "metadata": {},
   "source": [
    "# Jacob Pan, Jacobfp2, CHBE 494 Homework 9"
   ]
  },
  {
   "cell_type": "markdown",
   "metadata": {},
   "source": [
    "## Question 1"
   ]
  },
  {
   "cell_type": "code",
   "execution_count": 1,
   "metadata": {},
   "outputs": [
    {
     "name": "stdout",
     "output_type": "stream",
     "text": [
      "Profit = $76986.67\n",
      "Barley = 0.00\n",
      "Oats = 0.00\n",
      "Wheat = 0.00\n",
      "Rice = 66.67\n"
     ]
    }
   ],
   "source": [
    "import numpy as np\n",
    "from scipy.optimize import minimize\n",
    "\n",
    "def profit(x):\n",
    "    barley, oats, rice, wheat, lease, loan = x\n",
    "    sellPrice = barley + 0.4*oats + 0.6*rice + 0.8*wheat + 200*lease\n",
    "    \n",
    "    return 1.08* loan - sellPrice\n",
    "\n",
    "def maxLoan(x):\n",
    "    barley, oats, rice, wheat, lease, loan = x\n",
    "    \n",
    "    return 50000 - loan\n",
    "\n",
    "def tableCost(x):\n",
    "    barley, oats, rice, wheat, lease, loan = x\n",
    "    laborCost = (barley/1500)*300 + (oats/3000)*200 + (rice/2500)*250  + (wheat/2000)*360\n",
    "    waterCost =  (barley/1500 *10000 + oats/3000 *7000 + rice/2500 *6000 + wheat/2000*8000)*.02\n",
    "    fertilizerCost = (barley/1500 *100 + oats/3000 *120 + rice/2500 *160 + wheat/2000*200)*2\n",
    "    \n",
    "    return loan - (laborCost + waterCost + fertilizerCost)   \n",
    "\n",
    "def waterReq(x):\n",
    "    barley, oats, rice, wheat, lease, loan = x\n",
    "    \n",
    "    return (4*10**5) - (barley/1500 *10000 + oats/3000 *7000 + rice/2500 *6000 + wheat/2000*8000)\n",
    "\n",
    "def acre(x):\n",
    "    barley, oats, rice, wheat, lease, loan = x\n",
    "    \n",
    "    return 200 - (lease + barley/1500 + oats/3000 + rice/2500 + wheat/2000)   \n",
    "\n",
    "bnds = [[0,None]]*6\n",
    "\n",
    "cons = [{'type': 'ineq', 'fun' : maxLoan}, {'type' : 'eq', 'fun' : tableCost},\n",
    "       {'type' : 'ineq', 'fun' : waterReq}, {'type' : 'ineq', 'fun' : acre}]\n",
    "\n",
    "sol = minimize(profit,np.ones(6), bounds = bnds, constraints = cons)\n",
    "barley, oats, rice, wheat, lease, loan = sol.x\n",
    "barley1 = barley / 1500\n",
    "oats1 = oats/3000\n",
    "rice1 = rice/2500\n",
    "wheat1 = wheat/2000\n",
    "print(\"Profit = $%.2f\" % -sol.fun)\n",
    "print(\"Barley = %.2f\" % barley1)\n",
    "print(\"Oats = %.2f\" % oats1)\n",
    "print(\"Wheat = %.2f\" % wheat1)\n",
    "print(\"Rice = %.2f\" % rice1)\n",
    "\n"
   ]
  },
  {
   "cell_type": "markdown",
   "metadata": {},
   "source": [
    "## Question 2"
   ]
  },
  {
   "cell_type": "code",
   "execution_count": 2,
   "metadata": {},
   "outputs": [
    {
     "name": "stdout",
     "output_type": "stream",
     "text": [
      "rod 20 = 120.00\n",
      "rod 15 = 95.00\n",
      "rod 8 = 0.00\n",
      "waste = 325.00\n"
     ]
    }
   ],
   "source": [
    "def waste(x):\n",
    "    # A = 20ft, B = 15 ft, C = 8 ft\n",
    "    # D = 10ft, E = 6ft\n",
    "    # RodA_D means cutting rod of length 20ft into length of 10ft\n",
    "    rodA_D, rodA_E, rodB_D, rodB_E, rodC_E = x\n",
    "    \n",
    "    return 2*rodA_E + 3*rodB_E + 5*rodB_D + rodC_E* 2\n",
    "\n",
    "    \n",
    "def cutA(x):\n",
    "    rodA_D, rodA_E, rodB_D, rodB_E, rodC_E = x\n",
    "    \n",
    "    return 120 - (rodA_D + rodA_E)\n",
    "\n",
    "def cutB(x):\n",
    "    rodA_D, rodA_E, rodB_D, rodB_E, rodC_E = x\n",
    "    \n",
    "    return 160 - (rodB_D + rodB_E)\n",
    "\n",
    "def cutC(x):\n",
    "    rodA_D, rodA_E, rodB_D, rodB_E, rodC_E = x\n",
    "    \n",
    "    return 40 - rodC_E\n",
    "\n",
    "def wantD(x):\n",
    "    rodA_D, rodA_E, rodB_D, rodB_E, rodC_E = x\n",
    "    \n",
    "    return 200 - 2*rodA_D - rodB_D\n",
    "\n",
    "def wantE(x):\n",
    "    rodA_D, rodA_E, rodB_D, rodB_E,  rodC_E = x\n",
    "    \n",
    "    return 250 - 3*rodA_E - 2*rodB_E - rodC_E\n",
    "\n",
    "bnds = [[0,None]]*5\n",
    "\n",
    "cons = [{'type': 'eq', 'fun' : cutA}, {'type' : 'ineq', 'fun' : cutB},\n",
    "       {'type' : 'ineq', 'fun' : cutC}, {'type' : 'eq', 'fun' : wantE},\n",
    "       {'type' : 'eq', 'fun' : wantD}]\n",
    "\n",
    "sol = minimize(waste,np.ones(5), bounds = bnds, constraints = cons)\n",
    "\n",
    "rodA_D, rodA_E, rodB_D, rodB_E, rodC_E = sol.x\n",
    "rod_20 = rodA_D + rodA_E\n",
    "rod_15 = rodB_D + rodB_E\n",
    "rod_8 =  rodC_E\n",
    "\n",
    "print(\"rod 20 = %.2f\" % rod_20)\n",
    "print(\"rod 15 = %.2f\" % rod_15)\n",
    "print(\"rod 8 = %.2f\" % rod_8)\n",
    "print(\"waste = %.2f\" % sol.fun)"
   ]
  },
  {
   "cell_type": "markdown",
   "metadata": {},
   "source": [
    "## Question 3"
   ]
  },
  {
   "cell_type": "code",
   "execution_count": 3,
   "metadata": {},
   "outputs": [
    {
     "name": "stdout",
     "output_type": "stream",
     "text": [
      "Profit = $10900.00\n",
      "Gas A = 4000\n",
      "Gas B = 4000\n",
      "Stock 1 = 1000\n",
      "Stock 2 = 2000\n",
      "Stock 3 = 4000\n",
      "Stock 4 = 1000\n"
     ]
    }
   ],
   "source": [
    "def profit(x):\n",
    "    stock1_A, stock1_B, stock2_A, stock2_B, stock3_A, stock3_B, stock4_A, stock4_B = x\n",
    "    \n",
    "    sales = 16.20*(stock1_A + stock2_A + stock3_A + stock4_A) + 15.75*(stock1_B + stock2_B + stock3_B + stock4_B)\n",
    "    cost = 13*(stock1_A + stock1_B) + 15.3*(stock2_A + stock2_B) + 14.6*(stock3_A + stock3_B) + 14.90*(stock4_A + stock4_B)\n",
    "    \n",
    "    return cost - sales\n",
    "    \n",
    "def stock1(x): \n",
    "    stock1_A, stock1_B, stock2_A, stock2_B, stock3_A, stock3_B, stock4_A, stock4_B = x\n",
    "    \n",
    "    return 3000 - (stock1_A + stock1_B)\n",
    "\n",
    "def stock2(x): \n",
    "    stock1_A, stock1_B, stock2_A, stock2_B, stock3_A, stock3_B, stock4_A, stock4_B = x\n",
    "    \n",
    "    return 2000 - (stock2_A + stock2_B)\n",
    "\n",
    "def stock3(x): \n",
    "    stock1_A, stock1_B, stock2_A, stock2_B, stock3_A, stock3_B, stock4_A, stock4_B = x\n",
    "    \n",
    "    return 4000 - (stock3_A + stock3_B)\n",
    "\n",
    "def stock4(x): \n",
    "    stock1_A, stock1_B, stock2_A, stock2_B, stock3_A, stock3_B, stock4_A, stock4_B = x\n",
    "    \n",
    "    return 1000 - (stock4_A + stock4_B)\n",
    "\n",
    "def specA1(x):\n",
    "    stock1_A, stock1_B, stock2_A, stock2_B, stock3_A, stock3_B, stock4_A, stock4_B = x\n",
    "    \n",
    "    A = stock1_A + stock2_A + stock3_A + stock4_A\n",
    "    \n",
    "    return 0.15*(A) - stock1_A\n",
    "\n",
    "\n",
    "def specA2(x):\n",
    "    stock1_A, stock1_B, stock2_A, stock2_B, stock3_A, stock3_B, stock4_A, stock4_B = x\n",
    "    \n",
    "    A = stock1_A + stock2_A + stock3_A + stock4_A\n",
    "    \n",
    "    return (stock2_A) - 0.40*A\n",
    "\n",
    "def specA3(x):\n",
    "    stock1_A, stock1_B, stock2_A, stock2_B, stock3_A, stock3_B, stock4_A, stock4_B = x\n",
    "    \n",
    "    A = stock1_A + stock2_A + stock3_A + stock4_A\n",
    "    \n",
    "    return 0.50*A - (stock3_A)\n",
    "\n",
    "\n",
    "def specB1(x):\n",
    "    stock1_A, stock1_B, stock2_A, stock2_B, stock3_A, stock3_B, stock4_A, stock4_B = x\n",
    "    \n",
    "    B = stock1_B + stock2_B + stock3_B + stock4_B\n",
    "    \n",
    "    return 0.10*B - (stock1_B)\n",
    "\n",
    "def specB2(x):\n",
    "    stock1_A, stock1_B, stock2_A, stock2_B, stock3_A, stock3_B, stock4_A, stock4_B = x\n",
    "    \n",
    "    B = stock1_B + stock2_B + stock3_B + stock4_B\n",
    "\n",
    "    return (stock2_B) - 0.10*B\n",
    "\n",
    "bnds = [[0,None]]*8\n",
    "\n",
    "cons = [{'type': 'ineq', 'fun' : stock1}, {'type' : 'ineq', 'fun' : stock2},\n",
    "       {'type' : 'ineq', 'fun' : stock3}, {'type' : 'ineq', 'fun' : stock4},\n",
    "       {'type' : 'ineq', 'fun' : specA1}, {'type' : 'ineq', 'fun' : specA2},\n",
    "       {'type' : 'ineq', 'fun' : specA3}, {'type' : 'ineq', 'fun' : specB1},\n",
    "       {'type' : 'ineq', 'fun' : specB2}]\n",
    "\n",
    "sol = minimize(profit, np.ones(8), bounds = bnds, constraints = cons)\n",
    "\n",
    "stock1_A, stock1_B, stock2_A, stock2_B, stock3_A, stock3_B, stock4_A, stock4_B = sol.x\n",
    "A = stock1_A + stock2_A + stock3_A + stock4_A\n",
    "B = stock1_B + stock2_B + stock3_B + stock4_B\n",
    "stock1 = stock1_A + stock1_B\n",
    "stock2 = stock2_A + stock2_B\n",
    "stock3 = stock3_A + stock3_B\n",
    "stock4 = stock4_A + stock4_B\n",
    "\n",
    "print(\"Profit = $%.2f\" % -sol.fun) \n",
    "print(\"Gas A = %g\" % A)\n",
    "print(\"Gas B = %g\" % B)\n",
    "print(\"Stock 1 = %G\" % stock1)\n",
    "print(\"Stock 2 = %G\" % stock2)\n",
    "print(\"Stock 3 = %G\" % stock3)\n",
    "print(\"Stock 4 = %G\" % stock4)\n"
   ]
  },
  {
   "cell_type": "code",
   "execution_count": null,
   "metadata": {},
   "outputs": [],
   "source": []
  },
  {
   "cell_type": "code",
   "execution_count": null,
   "metadata": {},
   "outputs": [],
   "source": [
    "\n",
    "    "
   ]
  }
 ],
 "metadata": {
  "kernelspec": {
   "display_name": "Python 3",
   "language": "python",
   "name": "python3"
  },
  "language_info": {
   "codemirror_mode": {
    "name": "ipython",
    "version": 3
   },
   "file_extension": ".py",
   "mimetype": "text/x-python",
   "name": "python",
   "nbconvert_exporter": "python",
   "pygments_lexer": "ipython3",
   "version": "3.8.3"
  }
 },
 "nbformat": 4,
 "nbformat_minor": 4
}
