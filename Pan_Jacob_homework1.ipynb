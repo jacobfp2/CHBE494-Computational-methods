{
 "cells": [
  {
   "cell_type": "markdown",
   "metadata": {},
   "source": [
    "## Jacob Pan - jacobfp2 - CHBE 494 HW1"
   ]
  },
  {
   "cell_type": "markdown",
   "metadata": {},
   "source": [
    "## Question 1"
   ]
  },
  {
   "cell_type": "code",
   "execution_count": 7,
   "metadata": {},
   "outputs": [],
   "source": [
    "import math as m"
   ]
  },
  {
   "cell_type": "code",
   "execution_count": 8,
   "metadata": {},
   "outputs": [
    {
     "name": "stdout",
     "output_type": "stream",
     "text": [
      "2.362053756543496\n",
      "The exact solution for integral of exp(x) from -1 to 1 is 2.3504\n",
      "8.157963565450757\n",
      "The exact solution for integral of log(x)+x from 2 to 4 is 8.158883\n",
      "30.666666666666664\n",
      "The exact solution for integral of x^4 + x^3 + x^2 + x + 1 is 22.133333\n"
     ]
    }
   ],
   "source": [
    "def simpson(myfun, a, b):\n",
    "    #integrate exp(x) from -1 to 1\n",
    "    c = (a + b)/2\n",
    "    h = (b - a)/6\n",
    "    return h*(myfun(a) + 4*myfun(c) + myfun(b))\n",
    "print (simpson(m.exp, -1, 1))\n",
    "print (\"The exact solution for integral of exp(x) from -1 to 1 is 2.3504\")\n",
    "\n",
    "def logf(x):\n",
    "    #integrate log(x)+x from 2 to 4\n",
    "    return m.log(x)+x\n",
    "print(simpson(logf, 2, 4))\n",
    "print(\"The exact solution for integral of log(x)+x from 2 to 4 is 8.158883\")\n",
    "\n",
    "def exponential(x):\n",
    "    #integrate x^4 + x^3 + x^2 + x + 1 from -2 to 2\n",
    "    return x**4 + x**3 + x**2 + x + 1\n",
    "print(simpson(exponential, -2, 2))\n",
    "print(\"The exact solution for integral of x^4 + x^3 + x^2 + x + 1 is 22.133333\")\n"
   ]
  },
  {
   "cell_type": "markdown",
   "metadata": {},
   "source": [
    "## Question 2"
   ]
  },
  {
   "cell_type": "code",
   "execution_count": 12,
   "metadata": {
    "scrolled": true
   },
   "outputs": [
    {
     "name": "stdout",
     "output_type": "stream",
     "text": [
      "-1.6007602306037572\n"
     ]
    }
   ],
   "source": [
    "def g(myfun, x):\n",
    "    #integrate cos from 0 to 5\n",
    "    return m.cos(x)\n",
    "print (simpson(m.cos, 0, 5))"
   ]
  },
  {
   "cell_type": "markdown",
   "metadata": {},
   "source": [
    "## Question 3"
   ]
  },
  {
   "cell_type": "code",
   "execution_count": 3,
   "metadata": {},
   "outputs": [
    {
     "name": "stdout",
     "output_type": "stream",
     "text": [
      "((-0.9999999999999999+1.4142135623730951j), (-1-1.4142135623730951j))\n",
      "((-0.4999999999999999+1.6583123951777j), (-0.5000000000000001-1.6583123951777j))\n"
     ]
    }
   ],
   "source": [
    "import cmath\n",
    "def roots(a, b, c):\n",
    "    discriminant = b**2 - 4*a*c\n",
    "    sqrdisc = discriminant ** 0.5    \n",
    "    if (sqrdisc.real > 0):\n",
    "        x1 = (-b + sqrdisc) /(2*a)\n",
    "        x2 = (-b - sqrdisc) /(2*a)\n",
    "        return x1, x2\n",
    "\n",
    "#roots of x^2 + 2x + 3\n",
    "print(roots(1,2,3))\n",
    "#roots of x^2 + x + 3\n",
    "print(roots(1,1,3))"
   ]
  },
  {
   "cell_type": "markdown",
   "metadata": {},
   "source": [
    "## Question 4"
   ]
  },
  {
   "cell_type": "code",
   "execution_count": 14,
   "metadata": {},
   "outputs": [
    {
     "name": "stdout",
     "output_type": "stream",
     "text": [
      "The density of methane at 1 atm and 25 C is:\n",
      "0.6556090542716771\n",
      "The density of ethane at 2 atm and 30 C is:\n",
      "2.4175620972572287\n"
     ]
    }
   ],
   "source": [
    "def density(T, P, mw):\n",
    "    T = T + 273\n",
    "    R = 0.0821\n",
    "    return (P*mw)/(R*T)\n",
    "\n",
    "# density of methane at 1 atm and 25 C\n",
    "print(\"The density of methane at 1 atm and 25 C is:\")\n",
    "print(density(25,1,16.04))\n",
    "\n",
    "# density of ethane at 2 atm and 30 C\n",
    "print(\"The density of ethane at 2 atm and 30 C is:\")\n",
    "print(density(30,2,30.07))"
   ]
  },
  {
   "cell_type": "code",
   "execution_count": null,
   "metadata": {},
   "outputs": [],
   "source": []
  }
 ],
 "metadata": {
  "kernelspec": {
   "display_name": "Python 3",
   "language": "python",
   "name": "python3"
  },
  "language_info": {
   "codemirror_mode": {
    "name": "ipython",
    "version": 3
   },
   "file_extension": ".py",
   "mimetype": "text/x-python",
   "name": "python",
   "nbconvert_exporter": "python",
   "pygments_lexer": "ipython3",
   "version": "3.8.3"
  }
 },
 "nbformat": 4,
 "nbformat_minor": 4
}
