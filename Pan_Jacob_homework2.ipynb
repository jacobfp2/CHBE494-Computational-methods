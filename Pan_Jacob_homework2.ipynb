{
 "cells": [
  {
   "cell_type": "markdown",
   "metadata": {},
   "source": [
    "## Jacob Pan - jacobfp2 - CHBE 494 - HW 2"
   ]
  },
  {
   "cell_type": "markdown",
   "metadata": {},
   "source": [
    "## Question 1"
   ]
  },
  {
   "cell_type": "code",
   "execution_count": 47,
   "metadata": {},
   "outputs": [
    {
     "name": "stdout",
     "output_type": "stream",
     "text": [
      "Quarters = 2.00\n",
      "Dimes = 1.00\n",
      "Nickels = 1.00\n",
      "Pennies 2.00\n"
     ]
    }
   ],
   "source": [
    "def change(x):\n",
    "    remainder = 0\n",
    "    quarters = 0.25\n",
    "    dimes = 0.10\n",
    "    nickels = 0.05\n",
    "    pennies = 0.01\n",
    "    if (x > 0):\n",
    "        remainder = x % quarters\n",
    "        x = x // quarters\n",
    "        print(\"Quarters = %.2f\" % x)\n",
    "        if (remainder >= 0.10):\n",
    "            x = remainder // dimes\n",
    "            remainder = remainder % dimes\n",
    "            print(\"Dimes = %.2f\" % x)\n",
    "        if (remainder >= 0.05):\n",
    "            x = remainder // nickels\n",
    "            remainder = remainder % nickels\n",
    "            print(\"Nickels = %.2f\" % x)\n",
    "        if (remainder >= 0.01):\n",
    "            x = remainder / pennies\n",
    "            print(\"Pennies %.2f\" % x)\n",
    "            \n",
    "(change(0.67))"
   ]
  },
  {
   "cell_type": "markdown",
   "metadata": {},
   "source": [
    "## Question 2"
   ]
  },
  {
   "cell_type": "code",
   "execution_count": 48,
   "metadata": {},
   "outputs": [
    {
     "name": "stdout",
     "output_type": "stream",
     "text": [
      "3628800\n"
     ]
    }
   ],
   "source": [
    "def factorial(n):\n",
    "    i = 1\n",
    "    if n == 0:\n",
    "        return 1  \n",
    "    if n == 1:\n",
    "        return 1\n",
    "    while n > 1:\n",
    "        i = i*n\n",
    "        n = n - 1\n",
    "    return i\n",
    "print(factorial(10))\n"
   ]
  },
  {
   "cell_type": "markdown",
   "metadata": {},
   "source": [
    "## Question 3"
   ]
  },
  {
   "cell_type": "code",
   "execution_count": 49,
   "metadata": {},
   "outputs": [
    {
     "name": "stdout",
     "output_type": "stream",
     "text": [
      "2.718281826198493\n",
      "2.718281828459045\n",
      "N needs be to around 14 to get 10 digits accuracy when compared to the exp function in math\n"
     ]
    }
   ],
   "source": [
    "import math as m\n",
    "def exponential(x,N):\n",
    "    exp = 0\n",
    "    for i in range(0,N):\n",
    "        exp = ((x**i)/factorial(i)) + exp\n",
    "    return exp\n",
    "print(exponential(1,12))\n",
    "print(m.exp(1))\n",
    "print(\"N needs be to around 12 to get 10 digits accuracy when compared to the exp function in math\")"
   ]
  },
  {
   "cell_type": "markdown",
   "metadata": {},
   "source": [
    "## Question 4"
   ]
  },
  {
   "cell_type": "code",
   "execution_count": 50,
   "metadata": {},
   "outputs": [
    {
     "name": "stdout",
     "output_type": "stream",
     "text": [
      "104.0625\n"
     ]
    }
   ],
   "source": [
    "def polyval(p,x):\n",
    "    i = 0\n",
    "    for j in p:\n",
    "        i = x*i + j\n",
    "    return i\n",
    "print(polyval([1,2,3,4,5], 2.5))"
   ]
  },
  {
   "cell_type": "markdown",
   "metadata": {},
   "source": [
    "## Question 5"
   ]
  },
  {
   "cell_type": "code",
   "execution_count": 51,
   "metadata": {},
   "outputs": [
    {
     "name": "stdout",
     "output_type": "stream",
     "text": [
      "[0.3333333333333333, 0.5, 1.0, 0]\n",
      "[0.3333333333333333, 1.0, 3.0, 1]\n",
      "[2, 1]\n",
      "[3, 4, 3]\n"
     ]
    }
   ],
   "source": [
    "def polyint(p, c=0):\n",
    "    inte = []\n",
    "    x = 0\n",
    "    for i in range(len(p)-1,-1,-1):\n",
    "        inte.append((p[x]/(1+i)))\n",
    "        x = x + 1\n",
    "    inte.append(c)\n",
    "    return inte\n",
    "  \n",
    "def polyderiv(p):\n",
    "    deriv = []\n",
    "    for i in range(len(p) - 1):\n",
    "        deriv.append((len(p)-i-1)*p[i])\n",
    "    return deriv\n",
    "\n",
    "print(polyint([1,1,1]))  # - [0.333, 0.5, 1.0, 0]\n",
    "print(polyint([1,2,3], 1)) # - [0.333, 1.0, 3.0, 1]\n",
    " \n",
    "print(polyderiv([1,1,1]))   #- [2,1]   \n",
    "print(polyderiv([1,2,3,4]))  #- [3,4,3]"
   ]
  },
  {
   "cell_type": "markdown",
   "metadata": {},
   "source": [
    "## Question 6"
   ]
  },
  {
   "cell_type": "code",
   "execution_count": 52,
   "metadata": {},
   "outputs": [
    {
     "name": "stdout",
     "output_type": "stream",
     "text": [
      "[4, 6, 8, 10]\n"
     ]
    }
   ],
   "source": [
    "## We have 2 polynomials of unknown array size\n",
    "## We want to add the index of each array of the polynomial to each other\n",
    "## [1,2,3] + [4,5,6,7] = [4,6,8,10]\n",
    "## Loop through the bigger array \n",
    "## if the length of array isn't equal, then add 0 to the 0th index of smaller array\n",
    "def polyadd(p1,p2):\n",
    "    if len(p1) >= len(p2):\n",
    "        for i in range(0,len(p1)):\n",
    "            if len(p1) != len(p2):\n",
    "                p2.insert(0,0)\n",
    "        p3 = [a+b for a,b in zip(p1,p2)]\n",
    "    else:\n",
    "        for i in range(0,len(p2)):\n",
    "            if len(p1) != len(p2):\n",
    "                p1.insert(0,0)\n",
    "        p3 = [a+b for a,b in zip(p1,p2)]\n",
    "    return p3\n",
    "\n",
    "print(polyadd([1,2,3], [4,5,6,7]))"
   ]
  }
 ],
 "metadata": {
  "kernelspec": {
   "display_name": "Python 3",
   "language": "python",
   "name": "python3"
  },
  "language_info": {
   "codemirror_mode": {
    "name": "ipython",
    "version": 3
   },
   "file_extension": ".py",
   "mimetype": "text/x-python",
   "name": "python",
   "nbconvert_exporter": "python",
   "pygments_lexer": "ipython3",
   "version": "3.8.3"
  }
 },
 "nbformat": 4,
 "nbformat_minor": 4
}
