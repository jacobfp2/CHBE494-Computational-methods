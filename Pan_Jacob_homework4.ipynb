{
 "cells": [
  {
   "cell_type": "markdown",
   "metadata": {},
   "source": [
    "# Jacob Pan, Jacobfp2, CHBE 494 HW 4\n"
   ]
  },
  {
   "cell_type": "markdown",
   "metadata": {},
   "source": [
    "## Question 1"
   ]
  },
  {
   "cell_type": "code",
   "execution_count": 2,
   "metadata": {},
   "outputs": [
    {
     "name": "stdout",
     "output_type": "stream",
     "text": [
      "0.49261\n"
     ]
    }
   ],
   "source": [
    "from random import randint\n",
    "  \n",
    "def craps(gamesTotal):\n",
    "    currentWin = 0\n",
    "                \n",
    "    for i in range(gamesTotal):\n",
    "        first = randint(1,6) + randint(1,6)\n",
    "        if first == 7 or first == 11:\n",
    "            win = 1 \n",
    "        elif first == 2 or first == 3 or first == 12:\n",
    "            win = 0\n",
    "        else:\n",
    "            while True:\n",
    "                new = randint(1,6) + randint(1,6)\n",
    "                if new == first:\n",
    "                    win = 1       \n",
    "                    break\n",
    "                if new == 7:\n",
    "                    win = 0\n",
    "                    break\n",
    "                    \n",
    "        if win == 1:\n",
    "            currentWin = currentWin + 1\n",
    "    percentage = currentWin / gamesTotal\n",
    "    return percentage\n",
    "print(craps(100000))\n",
    "    \n"
   ]
  },
  {
   "cell_type": "markdown",
   "metadata": {},
   "source": [
    "## Question 2"
   ]
  },
  {
   "cell_type": "code",
   "execution_count": 3,
   "metadata": {},
   "outputs": [
    {
     "name": "stdout",
     "output_type": "stream",
     "text": [
      "14.367959581683794\n",
      "True\n",
      "-4.360927913967872\n",
      "True\n"
     ]
    }
   ],
   "source": [
    "import numpy as np\n",
    "from scipy.integrate import quad\n",
    "from scipy.optimize import root\n",
    "\n",
    "#Part A\n",
    "def funcA(x):\n",
    "    return np.sqrt(x/(x+1))*np.sin(x)**4\n",
    "\n",
    "def integralA(y):\n",
    "    a, _ = quad(funcA, 0 , y) \n",
    "    return a - 5\n",
    "sol = root(integralA, 1)\n",
    "\n",
    "print(sol.x[0])\n",
    "print(sol.success)\n",
    "\n",
    "#Part B\n",
    "def funcB(x, a):\n",
    "    return (x / (x**3 + np.exp(a*x)))**2.8\n",
    "\n",
    "def integralB(z):\n",
    "    a, _ = quad(funcB, 0 , 1, args = (z,))\n",
    "    return a - np.pi\n",
    "\n",
    "sol = root(integralB, -1)\n",
    "print(sol.x[0])\n",
    "print(sol.success)"
   ]
  },
  {
   "cell_type": "markdown",
   "metadata": {},
   "source": [
    "## Question 3"
   ]
  },
  {
   "cell_type": "code",
   "execution_count": 14,
   "metadata": {},
   "outputs": [
    {
     "name": "stdout",
     "output_type": "stream",
     "text": [
      "The boiling point of water is 373.14K\n",
      "The boiling point of ammonia is 239.66K\n"
     ]
    },
    {
     "data": {
      "image/png": "[encoded data removed]",
      "text/plain": [
       "<Figure size 432x288 with 1 Axes>"
      ]
     },
     "metadata": {
      "needs_background": "light"
     },
     "output_type": "display_data"
    }
   ],
   "source": [
    "import numpy as np\n",
    "from scipy.optimize import root\n",
    "import matplotlib.pyplot as plt\n",
    "\n",
    "P = 1.01\n",
    "water = [5.11564, 1687.537, -42.98]\n",
    "ammonia = [4.48540, 926.132, -32.98]\n",
    "\n",
    "def antione(chemical_1, param1, chemical_2, param2):  \n",
    "    chemical1 = lambda T: P - 10**(param1[0] - param1[1] / (param1[2] + T))\n",
    "    chemical2 = lambda T: P - 10**(param2[0] - param2[1] / (param2[2] + T))\n",
    "    sol1 = root(chemical1,300)\n",
    "    sol2 = root(chemical2,300)\n",
    "    print(\"The boiling point of water is %.2fK\" % sol1.x[0])\n",
    "    print(\"The boiling point of ammonia is %.2fK\" % sol2.x[0]) \n",
    "    \n",
    "    x = np.linspace(0,1,100)\n",
    "    y = np.linspace(0,1,100)\n",
    "    Tx = np.zeros(100)\n",
    "    Ty = np.zeros(100)\n",
    "\n",
    "    #Bubble Point plot\n",
    "    for i in range(100):\n",
    "        solRauolt = root(lambda T: x[i] * 10**(param1[0] - param1[1] / (param1[2] + T)) + (1-x[i]) * 10 ** (param2[0] - param2[1] / (param2[2] + T)) - P, 350)\n",
    "        Tx[i] = solRauolt.x[0]\n",
    "    plt.plot(x, Tx, color = 'r', lw = 3)\n",
    "    plt.xlabel(\"x,y (water)\")\n",
    "    plt.ylabel(\"T\")\n",
    "    #Dew point plot\n",
    "    for i in range(100):\n",
    "        solDew = root(lambda T: y[i] * P/ 10**(param1[0] - param1[1] / (param1[2] + T)) + (1-y[i])* P/ 10 ** (param2[0] - param2[1] / (param2[2] + T)) - 1, 250)\n",
    "        Ty[i] = solDew.x[0]\n",
    "    plt.plot(x, Ty, color = 'b', lw = 3)\n",
    "    return None\n",
    "\n",
    "antione(\"water\",water,\"ammonia\",ammonia)\n",
    "\n",
    "    \n",
    "        "
   ]
  },
  {
   "cell_type": "markdown",
   "metadata": {},
   "source": [
    "## Question 4"
   ]
  },
  {
   "cell_type": "code",
   "execution_count": 10,
   "metadata": {},
   "outputs": [
    {
     "ename": "IndexError",
     "evalue": "list assignment index out of range",
     "output_type": "error",
     "traceback": [
      "\u001b[1;31m---------------------------------------------------------------------------\u001b[0m",
      "\u001b[1;31mIndexError\u001b[0m                                Traceback (most recent call last)",
      "\u001b[1;32m<ipython-input-10-0b96db8b3d77>\u001b[0m in \u001b[0;36m<module>\u001b[1;34m\u001b[0m\n\u001b[0;32m     23\u001b[0m \u001b[1;32mfor\u001b[0m \u001b[0mi\u001b[0m \u001b[1;32min\u001b[0m \u001b[0mrange\u001b[0m \u001b[1;33m(\u001b[0m\u001b[1;36m999\u001b[0m\u001b[1;33m)\u001b[0m\u001b[1;33m:\u001b[0m\u001b[1;33m\u001b[0m\u001b[1;33m\u001b[0m\u001b[0m\n\u001b[0;32m     24\u001b[0m     \u001b[0msol1\u001b[0m \u001b[1;33m=\u001b[0m \u001b[0mroot\u001b[0m\u001b[1;33m(\u001b[0m\u001b[1;32mlambda\u001b[0m \u001b[0mz\u001b[0m\u001b[1;33m:\u001b[0m \u001b[0mcstr\u001b[0m\u001b[1;33m(\u001b[0m\u001b[0mz\u001b[0m\u001b[1;33m,\u001b[0m \u001b[0mtauArray\u001b[0m\u001b[1;33m[\u001b[0m\u001b[0mi\u001b[0m\u001b[1;33m]\u001b[0m\u001b[1;33m)\u001b[0m\u001b[1;33m,\u001b[0m \u001b[1;33m[\u001b[0m\u001b[0mguess1\u001b[0m\u001b[1;33m,\u001b[0m \u001b[0mguess2\u001b[0m\u001b[1;33m]\u001b[0m\u001b[1;33m)\u001b[0m\u001b[1;33m\u001b[0m\u001b[1;33m\u001b[0m\u001b[0m\n\u001b[1;32m---> 25\u001b[1;33m     \u001b[0marray1\u001b[0m\u001b[1;33m[\u001b[0m\u001b[0mi\u001b[0m\u001b[1;33m]\u001b[0m \u001b[1;33m=\u001b[0m \u001b[0msol1\u001b[0m\u001b[1;33m.\u001b[0m\u001b[0mx\u001b[0m\u001b[1;33m[\u001b[0m\u001b[1;36m0\u001b[0m\u001b[1;33m]\u001b[0m\u001b[1;33m\u001b[0m\u001b[1;33m\u001b[0m\u001b[0m\n\u001b[0m\u001b[0;32m     26\u001b[0m     \u001b[0marray2\u001b[0m\u001b[1;33m[\u001b[0m\u001b[0mi\u001b[0m\u001b[1;33m]\u001b[0m \u001b[1;33m=\u001b[0m \u001b[0msol1\u001b[0m\u001b[1;33m.\u001b[0m\u001b[0mx\u001b[0m\u001b[1;33m[\u001b[0m\u001b[1;36m1\u001b[0m\u001b[1;33m]\u001b[0m\u001b[1;33m\u001b[0m\u001b[1;33m\u001b[0m\u001b[0m\n\u001b[0;32m     27\u001b[0m     \u001b[0mconversion\u001b[0m\u001b[1;33m.\u001b[0m\u001b[0mappend\u001b[0m\u001b[1;33m(\u001b[0m\u001b[1;33m(\u001b[0m\u001b[0mc1\u001b[0m \u001b[1;33m-\u001b[0m \u001b[0msol1\u001b[0m\u001b[1;33m.\u001b[0m\u001b[0mx\u001b[0m\u001b[1;33m[\u001b[0m\u001b[1;36m1\u001b[0m\u001b[1;33m]\u001b[0m\u001b[1;33m)\u001b[0m\u001b[1;33m/\u001b[0m\u001b[0mc1\u001b[0m\u001b[1;33m)\u001b[0m\u001b[1;33m\u001b[0m\u001b[1;33m\u001b[0m\u001b[0m\n",
      "\u001b[1;31mIndexError\u001b[0m: list assignment index out of range"
     ]
    }
   ],
   "source": [
    "\n",
    "c1 = 2\n",
    "T1 = 298\n",
    "p = 1000\n",
    "Cp = 4.0\n",
    "k0 = 0.01\n",
    "E = 1000\n",
    "deltaH = -3E4\n",
    "\n",
    "\n",
    "\n",
    "def cstr(z, tau):\n",
    "    T, c = z\n",
    "    eqn1 =  ((1/tau)*(c1-c)) - (k0*np.exp(E/T))*c\n",
    "    eqn2 =  ((1/tau)*(T1-T)) - ((deltaH/(p*Cp)) * k0* np.exp(E/T) *c)\n",
    "    return [eqn1, eqn2]\n",
    "\n",
    "tauArray = np.logspace(0, 4, 999)\n",
    "tempArray = np.zeros(999)\n",
    "conversion = []\n",
    "guess1 = 300\n",
    "guess2 = 2\n",
    "\n",
    "for i in range (999):\n",
    "    sol1 = root(lambda z: cstr(z, tauArray[i]), [guess1, guess2])\n",
    "    array1[i] = sol1.x[0]\n",
    "    array2[i] = sol1.x[1]\n",
    "    conversion.append((c1 - sol1.x[1])/c1) \n",
    "    guess1 = sol1.x[0]\n",
    "    guess2 = sol2.x[1]\n",
    "    \n",
    "y = conversion\n",
    "\n",
    "plt.plot(tauArray, conversion, color = 'r', lw = 3)\n",
    "plt.xscale('log')\n",
    "plt.xlabel(\"tau\")\n",
    "plt.ylabel(\"conversion\")\n",
    "plt.grid(color = 'grey', linestyle = '-', linewidth = 1)\n",
    "plt.show()\n",
    "\n",
    "plt.plot(tauArray, array1, color = 'r', lw = 3)\n",
    "plt.xscale('log')\n",
    "plt.xlabel(\"tau\")\n",
    "plt.ylabel(\"Temperature\")\n",
    "plt.grid(color = 'grey', linestyle = '-', linewidth = 1)\n",
    "plt.show()"
   ]
  }
 ],
 "metadata": {
  "kernelspec": {
   "display_name": "Python 3",
   "language": "python",
   "name": "python3"
  },
  "language_info": {
   "codemirror_mode": {
    "name": "ipython",
    "version": 3
   },
   "file_extension": ".py",
   "mimetype": "text/x-python",
   "name": "python",
   "nbconvert_exporter": "python",
   "pygments_lexer": "ipython3",
   "version": "3.8.3"
  }
 },
 "nbformat": 4,
 "nbformat_minor": 4
}
